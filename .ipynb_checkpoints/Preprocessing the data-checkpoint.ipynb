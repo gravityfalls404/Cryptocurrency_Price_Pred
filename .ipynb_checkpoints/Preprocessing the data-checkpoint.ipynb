{
 "cells": [
  {
   "cell_type": "code",
   "execution_count": 3,
   "metadata": {},
   "outputs": [
    {
     "name": "stdout",
     "output_type": "stream",
     "text": [
      "         Time        Low   High        Open      Close     Volume\n",
      "0  1528968720  485.98999  486.5  486.019989  486.01001  26.019083\n",
      "1  1528968780  486.00000  486.0  486.000000  486.00000   8.449400\n",
      "2  1528968840  485.75000  486.0  486.000000  485.75000  26.994646\n",
      "3  1528968900  485.75000  486.0  485.750000  486.00000  77.355759\n",
      "4  1528968960  485.98999  486.0  486.000000  486.00000   7.503300\n"
     ]
    }
   ],
   "source": [
    "import pandas as pd\n",
    "import os\n",
    "\n",
    "df = pd.read_csv(f\"crypto_data/{csv_files[0]}\", names = ['Time', 'Low', 'High', 'Open', 'Close', 'Volume'])\n",
    "print(df.head())"
   ]
  },
  {
   "cell_type": "code",
   "execution_count": 4,
   "metadata": {},
   "outputs": [
    {
     "name": "stdout",
     "output_type": "stream",
     "text": [
      "ETH-USD.csv\n",
      "BCH-USD.csv\n",
      "LTC-USD.csv\n",
      "BTC-USD.csv\n"
     ]
    }
   ],
   "source": [
    "# Rading all the data files \n",
    "csv_files = []\n",
    "path = \"./crypto_data/\"\n",
    "for file in os.listdir(path):\n",
    "    csv_files.append(file)\n",
    "\n",
    "main_df = pf.DataFrame()\n",
    "# # Combining all the Crypto data in a single dataframe\n",
    "for crypto in csv_files:\n",
    "    print(crypto)\n",
    "    data = f\"./crypto_data/{crypto}\"\n",
    "    df = pd.read_csv(data, names=['Time', 'Low', 'High', 'Open', 'Close', 'Volume'])\n",
    "    \n",
    "    df.rename(columns={\"Close\": f\"{crypto.split()[0]}_Close\", \"Volume\": f\"{crypto.split()[0]}_Close\"}, inplace=True)\n",
    "    df.set_index(\"Time\", inplace=True)\n",
    "    df = df[[f\"{crypto.split()[0]}_Close\",f\"{crypto.split()[0]}_Close\"]]\n",
    "    \n",
    "    if len(main_df)==0:\n",
    "        main_df = df\n",
    "    else:\n",
    "        main_df = main_df.join(df)\n",
    "main_df.fillna(method=\"ffil\", inplace = True)\n",
    "main_df.dropop(inplace = True)\n",
    "print(main_df.head())\n",
    "    "
   ]
  },
  {
   "cell_type": "code",
   "execution_count": null,
   "metadata": {},
   "outputs": [],
   "source": []
  }
 ],
 "metadata": {
  "kernelspec": {
   "display_name": "Python 3",
   "language": "python",
   "name": "python3"
  },
  "language_info": {
   "codemirror_mode": {
    "name": "ipython",
    "version": 3
   },
   "file_extension": ".py",
   "mimetype": "text/x-python",
   "name": "python",
   "nbconvert_exporter": "python",
   "pygments_lexer": "ipython3",
   "version": "3.8.6"
  }
 },
 "nbformat": 4,
 "nbformat_minor": 4
}
