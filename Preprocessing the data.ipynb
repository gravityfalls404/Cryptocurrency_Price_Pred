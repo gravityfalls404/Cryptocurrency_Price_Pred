{
 "cells": [
  {
   "cell_type": "code",
   "execution_count": 17,
   "metadata": {},
   "outputs": [],
   "source": [
    "import pandas as pd\n",
    "import os\n",
    "import time\n",
    "\n",
    "# df = pd.read_csv(f\"crypto_data/{csv_files[0]}\", names = ['Time', 'Low', 'High', 'Open', 'Close', 'Volume'])\n",
    "# print(df.head())"
   ]
  },
  {
   "cell_type": "code",
   "execution_count": 5,
   "metadata": {},
   "outputs": [
    {
     "name": "stdout",
     "output_type": "stream",
     "text": [
      "ETH-USD\n",
      "BCH-USD\n",
      "LTC-USD\n",
      "BTC-USD\n",
      "            ETH-USD_Close  ETH-USD_Volume  BCH-USD_Close  BCH-USD_Volume  LTC-USD_Close  LTC-USD_Volume  BTC-USD_Close  BTC-USD_Volume\n",
      "Time                                                                                                                                  \n",
      "1528968720      486.01001       26.019083     870.859985       26.856577      96.660004      314.387024    6487.379883        7.706374\n",
      "1528968780      486.00000        8.449400     870.099976        1.124300      96.570000       77.129799    6479.410156        3.088252\n",
      "1528968840      485.75000       26.994646     870.789978        1.749862      96.500000        7.216067    6479.410156        1.404100\n",
      "1528968900      486.00000       77.355759     870.000000        1.680500      96.389999      524.539978    6479.979980        0.753000\n",
      "1528968960      486.00000        7.503300     869.989990        1.669014      96.519997       16.991997    6480.000000        1.490900\n"
     ]
    }
   ],
   "source": [
    "# Rading all the data files \n",
    "csv_files = []\n",
    "path = \"./crypto_data/\"\n",
    "for file in os.listdir(path):\n",
    "    csv_files.append(file.split(\".\")[0])\n",
    "\n",
    "main_df = pd.DataFrame()\n",
    "# # Combining all the Crypto data in a single dataframe\n",
    "for crypto in csv_files:\n",
    "    print(crypto)\n",
    "    data = f\"./crypto_data/{crypto}.csv\"\n",
    "    df = pd.read_csv(data, names=['Time', 'Low', 'High', 'Open', 'Close', 'Volume'])\n",
    "    \n",
    "    df.rename(columns={\"Close\": f\"{crypto}_Close\", \"Volume\": f\"{crypto}_Volume\"}, inplace=True)\n",
    "    df.set_index(\"Time\", inplace=True)\n",
    "    df = df[[f\"{crypto}_Close\",f\"{crypto}_Volume\"]]\n",
    "    \n",
    "    if len(main_df)==0:\n",
    "        main_df = df\n",
    "    else:\n",
    "        main_df = main_df.join(df)\n",
    "main_df.fillna(method=\"ffill\", inplace = True)\n",
    "main_df.dropna(inplace = True)\n",
    "print(main_df.head())\n",
    "    "
   ]
  },
  {
   "cell_type": "code",
   "execution_count": 18,
   "metadata": {},
   "outputs": [],
   "source": [
    "#Specifying the parameters for the NN\n",
    "SEQ_LEN = 60\n",
    "FUTURE_PERIOD_PREDICT = 3\n",
    "RATIO_TO_PREDICT = \"ETH-USD\"\n",
    "EPOCHS = 10\n",
    "BATCH_SIZE = 64\n",
    "NAME = f'{SEQ_LEN}-SEQ-{FUTURE_PERIOD_PREDICT}-PRED-{int(time.time())}'\n",
    "\n",
    "def classify(current, future):\n",
    "    if float(future) > float(current):\n",
    "        return 1\n",
    "    else:\n",
    "        return 0"
   ]
  },
  {
   "cell_type": "code",
   "execution_count": 7,
   "metadata": {},
   "outputs": [
    {
     "name": "stdout",
     "output_type": "stream",
     "text": [
      "            ETH-USD_Close  ETH-USD_Volume  BCH-USD_Close  BCH-USD_Volume  LTC-USD_Close  LTC-USD_Volume  BTC-USD_Close  BTC-USD_Volume     Future  Target\n",
      "Time                                                                                                                                                     \n",
      "1528968720      486.01001       26.019083     870.859985       26.856577      96.660004      314.387024    6487.379883        7.706374  486.00000       0\n",
      "1528968780      486.00000        8.449400     870.099976        1.124300      96.570000       77.129799    6479.410156        3.088252  486.00000       0\n",
      "1528968840      485.75000       26.994646     870.789978        1.749862      96.500000        7.216067    6479.410156        1.404100  485.98999       1\n",
      "1528968900      486.00000       77.355759     870.000000        1.680500      96.389999      524.539978    6479.979980        0.753000  485.98999       0\n",
      "1528968960      486.00000        7.503300     869.989990        1.669014      96.519997       16.991997    6480.000000        1.490900  485.98999       0\n"
     ]
    }
   ],
   "source": [
    "main_df['Future'] = main_df[f\"{RATIO_TO_PREDICT}_Close\"].shift(-FUTUTE_PERIOD_PREDICT)\n",
    "main_df['Target'] = list(map(classify, main_df[f\"{RATIO_TO_PREDICT}_Close\"], main_df['Future']))\n",
    "print(main_df.head())"
   ]
  },
  {
   "cell_type": "code",
   "execution_count": 8,
   "metadata": {},
   "outputs": [],
   "source": [
    "## In order to make a validation set out of the current dataset we have to take a percentage \n",
    "## from that dataset as a validation data\n",
    "\n",
    "VAL_PCT = 0.10   #10% of all the data is validation data\n",
    "times = sorted(main_df.index.values)\n",
    "\n",
    "#Getting the index values of the last VAL_PCT i.e time stamp value \n",
    "final_pct = sorted(main_df.index.values)[-int(VAL_PCT*len(times))] \n",
    "\n",
    "validation_main_df = main_df[(main_df.index >= final_pct)] #Taking all records which have a time stamp more than the VAL_PCT timestamp\n",
    "main_df = main_df[(main_df.index < final_pct)] # Rest are under training data\n"
   ]
  },
  {
   "cell_type": "code",
   "execution_count": 9,
   "metadata": {},
   "outputs": [],
   "source": [
    "from sklearn import preprocessing #To notmalize and scale the data\n",
    "import random\n",
    "from collections import deque\n",
    "import numpy as np\n",
    "\n",
    "def preprocess_df(df):\n",
    "    df = df.drop(\"Future\",1) #This is the actual future value to be used later for regression model\n",
    "    \n",
    "    for col in df.columns:\n",
    "        if col != \"Target\":\n",
    "            df[col] = df[col].pct_change() #Since the abs values of differet bitcoins are vastly differe so we measure only the pct change  to feed the model.\n",
    "            df.dropna(inplace = True)\n",
    "            df[col] = preprocessing.scale(df[col].values) #0-1\n",
    "    \n",
    "    df.dropna(inplace=True) #In case we missed any NAN value\n",
    "    \n",
    "    sequential_data = [] #Cointains a seq of timestaps along with the values and a target corrosponding to SEQ_LEN\n",
    "    prev_days = deque(maxlen=SEQ_LEN) #Queue that'll only store maxlen values\n",
    "\n",
    "    for record in df.values: \n",
    "        prev_days.append([col for col in record[:-1]]) #appending all the colums except the target to the queue \n",
    "\n",
    "        if len(prev_days) == SEQ_LEN: #If the temp sequence len reaches the seq_len value\n",
    "            sequential_data.append([np.array(prev_days), record[-1]]) #Append the sequence to the sequential data list\n",
    "\n",
    "    random.shuffle(sequential_data) \n",
    "    \n",
    "    \"\"\"\n",
    "        Before feeding the data to the newtwork there should be a balance between the\n",
    "        number of different categories of data i.e around 50-50\n",
    "    \"\"\"\n",
    "    \n",
    "    buys = [] #When the target value is 0 (Price goes down)\n",
    "    sells = [] # whent the target values is 1 (Price goes up)\n",
    "    \n",
    "    \n",
    "    for seq, target in sequential_data: \n",
    "        if target ==0:\n",
    "            sells.append([seq, target])\n",
    "        elif target == 1:\n",
    "            buys.append([seq, target])\n",
    "    \n",
    "    random.shuffle(buys)\n",
    "    random.shuffle(sells)\n",
    "    \n",
    "    #Getting the min len out of the 1 and 0 and mixing them in equal number i.e. 50-50\n",
    "    lower = min(len(buys), len(sells))\n",
    "    \n",
    "    buys = buys[:lower]\n",
    "    sells = sells[:lower]\n",
    "    \n",
    "    sequential_data = buys+sells\n",
    "    random.shuffle(sequential_data)\n",
    "    \n",
    "    X = []\n",
    "    y = []\n",
    "    \n",
    "    for seq, target in sequential_data:\n",
    "        X.append(seq)\n",
    "        y.append(target)\n",
    "        \n",
    "    \n",
    "    return np.array(X),y #Returns the array of sequence along with the target values\n",
    "    \n",
    "    \n"
   ]
  },
  {
   "cell_type": "code",
   "execution_count": 10,
   "metadata": {},
   "outputs": [
    {
     "name": "stdout",
     "output_type": "stream",
     "text": [
      "train data: 83194 validation: 9196\n",
      "Dont buys: 41597, buys: 41597\n",
      "VALIDATION Dont buys: 4598, buys: 4598\n"
     ]
    }
   ],
   "source": [
    "#Getting the training and validation input and target from the data\n",
    "\n",
    "train_x, train_y  = preprocess_df(main_df)\n",
    "validation_x, validation_y = preprocess_df(validation_main_df)\n",
    "\n",
    "print(f\"train data: {len(train_x)} validation: {len(validation_x)}\")\n",
    "print(f\"Dont buys: {train_y.count(0)}, buys: {train_y.count(1)}\")\n",
    "print(f\"VALIDATION Dont buys: {validation_y.count(0)}, buys: {validation_y.count(1)}\")"
   ]
  },
  {
   "cell_type": "code",
   "execution_count": 16,
   "metadata": {},
   "outputs": [],
   "source": [
    "#Training the model\n",
    "## Importing all the required modules\n",
    "\n",
    "import tensorflow as tf\n",
    "from tensorflow.keras.models import Sequential\n",
    "from tensorflow.keras.layers import Dense, Dropout, LSTM, BatchNormalization\n",
    "from tensorflow.keras.callbacks import TensorBoard, ModelCheckpoint\n",
    "from tensorflow.keras.optimizers import Adam, SGD\n",
    "import time\n",
    "\n",
    "\n",
    "model = Sequential()\n",
    "model.add(LSTM(128, input_shape=(train_x.shape[1:]), return_sequences = True))\n",
    "model.add(Dropout(0.2))\n",
    "model.add(BatchNormalization())\n",
    "\n",
    "model.add(LSTM(128, return_sequences=True))\n",
    "model.add(Dropout(0.1))\n",
    "model.add(BatchNormalization())\n",
    "\n",
    "model.add(LSTM(128))\n",
    "model.add(Dropout(0.2))\n",
    "model.add(BatchNormalization())\n",
    "\n",
    "model.add(Dense(32, activation='relu'))\n",
    "model.add(Dropout(0.2))\n",
    "\n",
    "model.add(Dense(2, activation='softmax'))\n",
    "\n",
    "opt = Adam(lr=0.001, decay = 1e-6)\n",
    "\n",
    "model.compile(loss = \"sparse_categorical_crossentropy\", optimizer = opt, metrics = ['accuracy'])"
   ]
  },
  {
   "cell_type": "code",
   "execution_count": 19,
   "metadata": {},
   "outputs": [],
   "source": [
    "# tensorboard = TensorBoard(log_dir=f\"logs/{NAME}\")\n",
    "# filepath = \"RNN_Final-{epoch:02d}-{val_acc:.3f}\"  # unique file name that will include the epoch and the validation acc for that epoch\n",
    "# checkpoint = ModelCheckpoint(\"models/{}.model\".format(filepath, monitor='val_acc', verbose=1, save_best_only=True, mode='max')) # saves only the best ones"
   ]
  },
  {
   "cell_type": "code",
   "execution_count": 28,
   "metadata": {},
   "outputs": [
    {
     "name": "stdout",
     "output_type": "stream",
     "text": [
      "Epoch 1/10\n",
      "1300/1300 [==============================] - 222s 171ms/step - loss: 0.6902 - accuracy: 0.5267 - val_loss: 0.6925 - val_accuracy: 0.5045\n",
      "Epoch 2/10\n",
      "1300/1300 [==============================] - 231s 177ms/step - loss: 0.6919 - accuracy: 0.5205 - val_loss: 0.7195 - val_accuracy: 0.5075\n",
      "Epoch 3/10\n",
      "1300/1300 [==============================] - 218s 168ms/step - loss: 0.6896 - accuracy: 0.5374 - val_loss: 0.7038 - val_accuracy: 0.5174\n",
      "Epoch 4/10\n",
      "1300/1300 [==============================] - 244s 188ms/step - loss: 0.6876 - accuracy: 0.5448 - val_loss: 0.6884 - val_accuracy: 0.5410\n",
      "Epoch 5/10\n",
      "1300/1300 [==============================] - 233s 179ms/step - loss: 0.6857 - accuracy: 0.5514 - val_loss: 0.6892 - val_accuracy: 0.5451\n",
      "Epoch 6/10\n",
      "1300/1300 [==============================] - 250s 192ms/step - loss: 0.6853 - accuracy: 0.5517 - val_loss: 0.6851 - val_accuracy: 0.5488\n",
      "Epoch 7/10\n",
      "1300/1300 [==============================] - 217s 167ms/step - loss: 0.6843 - accuracy: 0.5548 - val_loss: 0.6887 - val_accuracy: 0.5369\n",
      "Epoch 8/10\n",
      "1300/1300 [==============================] - 249s 192ms/step - loss: 0.6831 - accuracy: 0.5588 - val_loss: 0.6901 - val_accuracy: 0.5400\n",
      "Epoch 9/10\n",
      "1300/1300 [==============================] - 231s 178ms/step - loss: 0.6827 - accuracy: 0.5591 - val_loss: 0.6863 - val_accuracy: 0.5446\n",
      "Epoch 10/10\n",
      "1300/1300 [==============================] - 216s 166ms/step - loss: 0.6817 - accuracy: 0.5620 - val_loss: 0.6856 - val_accuracy: 0.5495\n"
     ]
    }
   ],
   "source": [
    "history = model.fit(\n",
    "    np.asarray(train_x),np.asarray(train_y),\n",
    "    batch_size=BATCH_SIZE,\n",
    "    epochs=EPOCHS,\n",
    "    validation_data=(np.asarray(validation_x), np.asarray(validation_y)),\n",
    "#     callbacks=[tensorboard, checkpoint],\n",
    ")\n",
    "    \n",
    "# score = model.evaluate(np.asarray(validation_x),np.asarray(validation_y), verbose=0)\n",
    "    \n",
    "# print('Test Loss: ',score[0])\n",
    "# print('Test Accuracy: ',  score[1])\n",
    "\n",
    "# model.save(f\"models/{NAME}\")"
   ]
  },
  {
   "cell_type": "code",
   "execution_count": 35,
   "metadata": {},
   "outputs": [
    {
     "name": "stderr",
     "output_type": "stream",
     "text": [
      "WARNING:absl:Found untraced functions such as lstm_cell_5_layer_call_and_return_conditional_losses, lstm_cell_5_layer_call_fn, lstm_cell_6_layer_call_and_return_conditional_losses, lstm_cell_6_layer_call_fn, lstm_cell_7_layer_call_and_return_conditional_losses while saving (showing 5 of 15). These functions will not be directly callable after loading.\n",
      "WARNING:absl:Found untraced functions such as lstm_cell_5_layer_call_and_return_conditional_losses, lstm_cell_5_layer_call_fn, lstm_cell_6_layer_call_and_return_conditional_losses, lstm_cell_6_layer_call_fn, lstm_cell_7_layer_call_and_return_conditional_losses while saving (showing 5 of 15). These functions will not be directly callable after loading.\n"
     ]
    },
    {
     "name": "stdout",
     "output_type": "stream",
     "text": [
      "INFO:tensorflow:Assets written to: models/60-SEQ-3-PRED-1615090857/assets\n"
     ]
    },
    {
     "name": "stderr",
     "output_type": "stream",
     "text": [
      "INFO:tensorflow:Assets written to: models/60-SEQ-3-PRED-1615090857/assets\n"
     ]
    },
    {
     "data": {
      "image/png": "[encoded data removed]",
      "text/plain": [
       "<Figure size 432x288 with 1 Axes>"
      ]
     },
     "metadata": {
      "needs_background": "light"
     },
     "output_type": "display_data"
    },
    {
     "data": {
      "image/png": "[encoded data removed]",
      "text/plain": [
       "<Figure size 432x288 with 1 Axes>"
      ]
     },
     "metadata": {
      "needs_background": "light"
     },
     "output_type": "display_data"
    }
   ],
   "source": [
    "model.save(f\"models/{NAME}\")\n",
    "import matplotlib.pyplot as plt\n",
    "\n",
    "plt.plot(history.history['accuracy'])\n",
    "plt.plot(history.history['val_accuracy'])\n",
    "plt.title('model accuracy')\n",
    "plt.ylabel('accuracy')\n",
    "plt.xlabel('epoch')\n",
    "plt.legend(['train', 'test'], loc='upper left')\n",
    "plt.show()\n",
    "# summarize history for loss\n",
    "plt.plot(history.history['loss'])\n",
    "plt.plot(history.history['val_loss'])\n",
    "plt.title('model loss')\n",
    "plt.ylabel('loss')\n",
    "plt.xlabel('epoch')\n",
    "plt.legend(['train', 'test'], loc='upper left')\n",
    "plt.show()"
   ]
  },
  {
   "cell_type": "code",
   "execution_count": null,
   "metadata": {},
   "outputs": [],
   "source": []
  }
 ],
 "metadata": {
  "kernelspec": {
   "display_name": "Python 3",
   "language": "python",
   "name": "python3"
  },
  "language_info": {
   "codemirror_mode": {
    "name": "ipython",
    "version": 3
   },
   "file_extension": ".py",
   "mimetype": "text/x-python",
   "name": "python",
   "nbconvert_exporter": "python",
   "pygments_lexer": "ipython3",
   "version": "3.8.6"
  }
 },
 "nbformat": 4,
 "nbformat_minor": 4
}
