{
 "cells": [
  {
   "cell_type": "code",
   "execution_count": 3,
   "metadata": {},
   "outputs": [
    {
     "name": "stdout",
     "output_type": "stream",
     "text": [
      "         Time        Low   High        Open      Close     Volume\n",
      "0  1528968720  485.98999  486.5  486.019989  486.01001  26.019083\n",
      "1  1528968780  486.00000  486.0  486.000000  486.00000   8.449400\n",
      "2  1528968840  485.75000  486.0  486.000000  485.75000  26.994646\n",
      "3  1528968900  485.75000  486.0  485.750000  486.00000  77.355759\n",
      "4  1528968960  485.98999  486.0  486.000000  486.00000   7.503300\n"
     ]
    }
   ],
   "source": [
    "import pandas as pd\n",
    "import os\n",
    "\n",
    "df = pd.read_csv(f\"crypto_data/{csv_files[0]}\", names = ['Time', 'Low', 'High', 'Open', 'Close', 'Volume'])\n",
    "print(df.head())"
   ]
  },
  {
   "cell_type": "code",
   "execution_count": 32,
   "metadata": {},
   "outputs": [
    {
     "name": "stdout",
     "output_type": "stream",
     "text": [
      "ETH-USD\n",
      "BCH-USD\n",
      "LTC-USD\n",
      "BTC-USD\n",
      "            ETH-USD_Close  ETH-USD_Volume  BCH-USD_Close  BCH-USD_Volume  \\\n",
      "Time                                                                       \n",
      "1528968720      486.01001       26.019083     870.859985       26.856577   \n",
      "1528968780      486.00000        8.449400     870.099976        1.124300   \n",
      "1528968840      485.75000       26.994646     870.789978        1.749862   \n",
      "1528968900      486.00000       77.355759     870.000000        1.680500   \n",
      "1528968960      486.00000        7.503300     869.989990        1.669014   \n",
      "\n",
      "            LTC-USD_Close  LTC-USD_Volume  BTC-USD_Close  BTC-USD_Volume  \n",
      "Time                                                                      \n",
      "1528968720      96.660004      314.387024    6487.379883        7.706374  \n",
      "1528968780      96.570000       77.129799    6479.410156        3.088252  \n",
      "1528968840      96.500000        7.216067    6479.410156        1.404100  \n",
      "1528968900      96.389999      524.539978    6479.979980        0.753000  \n",
      "1528968960      96.519997       16.991997    6480.000000        1.490900  \n"
     ]
    }
   ],
   "source": [
    "# Rading all the data files \n",
    "csv_files = []\n",
    "path = \"./crypto_data/\"\n",
    "for file in os.listdir(path):\n",
    "    csv_files.append(file.split(\".\")[0])\n",
    "\n",
    "main_df = pd.DataFrame()\n",
    "# # Combining all the Crypto data in a single dataframe\n",
    "for crypto in csv_files:\n",
    "    print(crypto)\n",
    "    data = f\"./crypto_data/{crypto}.csv\"\n",
    "    df = pd.read_csv(data, names=['Time', 'Low', 'High', 'Open', 'Close', 'Volume'])\n",
    "    \n",
    "    df.rename(columns={\"Close\": f\"{crypto}_Close\", \"Volume\": f\"{crypto}_Volume\"}, inplace=True)\n",
    "    df.set_index(\"Time\", inplace=True)\n",
    "    df = df[[f\"{crypto}_Close\",f\"{crypto}_Volume\"]]\n",
    "    \n",
    "    if len(main_df)==0:\n",
    "        main_df = df\n",
    "    else:\n",
    "        main_df = main_df.join(df)\n",
    "main_df.fillna(method=\"ffill\", inplace = True)\n",
    "main_df.dropna(inplace = True)\n",
    "print(main_df.head())\n",
    "    "
   ]
  },
  {
   "cell_type": "code",
   "execution_count": 33,
   "metadata": {},
   "outputs": [],
   "source": [
    "#Specifying the parameters for the NN\n",
    "SEQ_LEN = 60\n",
    "FUTUTE_PERIOD_PREDICT = 3\n",
    "RATIO_TO_PREDICT = \"ETH-USD\"\n",
    "\n",
    "def classify(current, future):\n",
    "    if float(future) > float(current):\n",
    "        return 1\n",
    "    else:\n",
    "        return 0"
   ]
  },
  {
   "cell_type": "code",
   "execution_count": 34,
   "metadata": {},
   "outputs": [
    {
     "name": "stdout",
     "output_type": "stream",
     "text": [
      "            ETH-USD_Close  ETH-USD_Volume  BCH-USD_Close  BCH-USD_Volume  \\\n",
      "Time                                                                       \n",
      "1528968720      486.01001       26.019083     870.859985       26.856577   \n",
      "1528968780      486.00000        8.449400     870.099976        1.124300   \n",
      "1528968840      485.75000       26.994646     870.789978        1.749862   \n",
      "1528968900      486.00000       77.355759     870.000000        1.680500   \n",
      "1528968960      486.00000        7.503300     869.989990        1.669014   \n",
      "\n",
      "            LTC-USD_Close  LTC-USD_Volume  BTC-USD_Close  BTC-USD_Volume  \\\n",
      "Time                                                                       \n",
      "1528968720      96.660004      314.387024    6487.379883        7.706374   \n",
      "1528968780      96.570000       77.129799    6479.410156        3.088252   \n",
      "1528968840      96.500000        7.216067    6479.410156        1.404100   \n",
      "1528968900      96.389999      524.539978    6479.979980        0.753000   \n",
      "1528968960      96.519997       16.991997    6480.000000        1.490900   \n",
      "\n",
      "               Future  Target  \n",
      "Time                           \n",
      "1528968720  486.00000       0  \n",
      "1528968780  486.00000       0  \n",
      "1528968840  485.98999       1  \n",
      "1528968900  485.98999       0  \n",
      "1528968960  485.98999       0  \n"
     ]
    }
   ],
   "source": [
    "main_df['Future'] = main_df[f\"{RATIO_TO_PREDICT}_Close\"].shift(-FUTUTE_PERIOD_PREDICT)\n",
    "main_df['Target'] = list(map(classify, main_df[f\"{RATIO_TO_PREDICT}_Close\"], main_df['Future']))\n",
    "print(main_df.head())"
   ]
  },
  {
   "cell_type": "code",
   "execution_count": null,
   "metadata": {},
   "outputs": [],
   "source": []
  }
 ],
 "metadata": {
  "kernelspec": {
   "display_name": "Python 3",
   "language": "python",
   "name": "python3"
  },
  "language_info": {
   "codemirror_mode": {
    "name": "ipython",
    "version": 3
   },
   "file_extension": ".py",
   "mimetype": "text/x-python",
   "name": "python",
   "nbconvert_exporter": "python",
   "pygments_lexer": "ipython3",
   "version": "3.8.6"
  }
 },
 "nbformat": 4,
 "nbformat_minor": 4
}
